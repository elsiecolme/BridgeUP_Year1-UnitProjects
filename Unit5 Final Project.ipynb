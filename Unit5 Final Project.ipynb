{
 "cells": [
  {
   "cell_type": "code",
   "execution_count": 1,
   "metadata": {},
   "outputs": [],
   "source": [
    "# Importing libraries we think we need\n",
    "import pandas as pd\n",
    "import numpy as np\n",
    "import matplotlib.pyplot as plt"
   ]
  },
  {
   "cell_type": "code",
   "execution_count": 2,
   "metadata": {},
   "outputs": [],
   "source": [
    "# Reads the CSV file\n",
    "df = pd.read_csv(\"bird_dino_data.csv\")"
   ]
  },
  {
   "cell_type": "code",
   "execution_count": 3,
   "metadata": {},
   "outputs": [],
   "source": [
    "# Function Help Find The Cerebrum to Whole Brain Ratio\n",
    "def avgcw_ratio(dfname, bird_dino):\n",
    "    animal_df = dfname.loc[dfname[\"Bird vs Dino\"] == bird_dino].copy()\n",
    "    animal_df[\"ratio\"] = animal_df[\"Cerebrum (cm3)\"]/animal_df[\"Brain Volume (cm3)\"]\n",
    "    ratio = animal_df[\"ratio\"].mean()\n",
    "    return ratio"
   ]
  },
  {
   "cell_type": "code",
   "execution_count": 4,
   "metadata": {},
   "outputs": [
    {
     "name": "stdout",
     "output_type": "stream",
     "text": [
      "0.6649507745281171\n",
      "0.4695339305450895\n"
     ]
    }
   ],
   "source": [
    "# Printing Our Values And Setting Variables to Them\n",
    "print(avgcw_ratio(df,\"B\"))\n",
    "print(avgcw_ratio(df,\"D\"))\n",
    "\n",
    "birdcw = avgcw_ratio(df,\"B\")\n",
    "dinocw = avgcw_ratio(df,\"D\")"
   ]
  },
  {
   "cell_type": "code",
   "execution_count": 5,
   "metadata": {},
   "outputs": [],
   "source": [
    "# Function Help Find The Brain to Bodymass Ratio\n",
    "def avgbb_ratio(dfname,bird_dino):\n",
    "    animal_df = dfname.loc[dfname[\"Bird vs Dino\"] == bird_dino].copy()\n",
    "    animal_df[\"ratio\"] = animal_df[\"Brain Volume (cm3)\"]/animal_df[\"Body Mass (kg)\"]\n",
    "    ratio = animal_df[\"ratio\"].mean()\n",
    "    return ratio"
   ]
  },
  {
   "cell_type": "code",
   "execution_count": 6,
   "metadata": {},
   "outputs": [
    {
     "name": "stdout",
     "output_type": "stream",
     "text": [
      "47.83228382007435\n",
      "1.6106496539985664\n"
     ]
    }
   ],
   "source": [
    "# Printing Our Balues And Setting Variables to Them\n",
    "print(avgbb_ratio(df,\"B\"))\n",
    "print(avgbb_ratio(df,\"D\"))\n",
    "\n",
    "birdbb = avgbb_ratio(df,\"B\")\n",
    "dinobb = avgbb_ratio(df,\"D\")"
   ]
  },
  {
   "cell_type": "code",
   "execution_count": 7,
   "metadata": {},
   "outputs": [],
   "source": [
    "# Function to Use The Femur Length to Help Find The Bodymass\n",
    "def calBodymass(femurlength):\n",
    "    bodymass = 10**(3.1854*np.log10(femurlength)-3.184)/1000\n",
    "    return bodymass\n",
    "\n",
    "body = calBodymass(21)"
   ]
  },
  {
   "cell_type": "code",
   "execution_count": 8,
   "metadata": {},
   "outputs": [
    {
     "name": "stdout",
     "output_type": "stream",
     "text": [
      "206.3599145543502\n"
     ]
    }
   ],
   "source": [
    "# Finding the Brain to Bodymass Ratio of Our Mystery Brain\n",
    "brainbb = 2.2/bm\n",
    "print(brainbb)"
   ]
  },
  {
   "cell_type": "code",
   "execution_count": 9,
   "metadata": {},
   "outputs": [],
   "source": [
    "# Function to Find The Cerebrum to Wholebrain Ratio\n",
    "def calCWratio(cerebrum,wholebrain):\n",
    "    ratio = cerebrum/wholebrain\n",
    "    return ratio"
   ]
  },
  {
   "cell_type": "code",
   "execution_count": 10,
   "metadata": {},
   "outputs": [
    {
     "name": "stdout",
     "output_type": "stream",
     "text": [
      "0.7136363636363636\n"
     ]
    }
   ],
   "source": [
    "# Finding the Cerebrum to Wholebrain Ratio of Our Mystery Brain\n",
    "braincw = calCWratio(1.57,2.2)\n",
    "print(braincw)"
   ]
  },
  {
   "cell_type": "code",
   "execution_count": 11,
   "metadata": {},
   "outputs": [
    {
     "data": {
      "image/png": "[encoded data removed]",
      "text/plain": [
       "<Figure size 432x288 with 1 Axes>"
      ]
     },
     "metadata": {
      "needs_background": "light"
     },
     "output_type": "display_data"
    }
   ],
   "source": [
    "plt.bar([1,2,3],[birdbb, dinobb, brainbb], color = [\"red\",\"blue\",\"yellow\"])\n",
    "plt.title(\"Brain to Body Ratios\")\n",
    "plt.xticks([1,2,3],[\"Birds\", \"Non-Avian Dinosaurs\", \"Brain\"])\n",
    "plt.show()"
   ]
  },
  {
   "cell_type": "code",
   "execution_count": 12,
   "metadata": {},
   "outputs": [
    {
     "data": {
      "image/png": "[encoded data removed]",
      "text/plain": [
       "<Figure size 432x288 with 1 Axes>"
      ]
     },
     "metadata": {
      "needs_background": "light"
     },
     "output_type": "display_data"
    }
   ],
   "source": [
    "plt.bar([1,2,3],[birdcw, dinocw, braincw], color = [\"red\",\"blue\",\"yellow\"])\n",
    "plt.title(\"Cerebrum to Whole-Brain Ratios\")\n",
    "plt.xticks([1,2,3],[\"Birds\", \"Non-Avian Dinosaurs\", \"Brain\"])\n",
    "plt.show()"
   ]
  },
  {
   "cell_type": "code",
   "execution_count": null,
   "metadata": {},
   "outputs": [],
   "source": []
  }
 ],
 "metadata": {
  "kernelspec": {
   "display_name": "Python 3",
   "language": "python",
   "name": "python3"
  },
  "language_info": {
   "codemirror_mode": {
    "name": "ipython",
    "version": 3
   },
   "file_extension": ".py",
   "mimetype": "text/x-python",
   "name": "python",
   "nbconvert_exporter": "python",
   "pygments_lexer": "ipython3",
   "version": "3.7.3"
  }
 },
 "nbformat": 4,
 "nbformat_minor": 2
}
